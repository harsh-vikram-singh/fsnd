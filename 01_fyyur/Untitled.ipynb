{
 "cells": [
  {
   "cell_type": "code",
   "execution_count": 1,
   "metadata": {},
   "outputs": [
    {
     "name": "stderr",
     "output_type": "stream",
     "text": [
      "/home/singh/.local/lib/python3.7/site-packages/flask_sqlalchemy/__init__.py:835: FSADeprecationWarning: SQLALCHEMY_TRACK_MODIFICATIONS adds significant overhead and will be disabled by default in the future.  Set it to True or False to suppress this warning.\n",
      "  'SQLALCHEMY_TRACK_MODIFICATIONS adds significant overhead and '\n"
     ]
    }
   ],
   "source": [
    "from app import db, Venue, Artist, Show"
   ]
  },
  {
   "cell_type": "code",
   "execution_count": 2,
   "metadata": {},
   "outputs": [],
   "source": [
    "venues = db.session.query(Venue).all()\n",
    "artists = db.session.query(Artist).all()\n",
    "shows = db.session.query(Show).all()"
   ]
  },
  {
   "cell_type": "code",
   "execution_count": 3,
   "metadata": {},
   "outputs": [
    {
     "data": {
      "text/plain": [
       "'Metallica'"
      ]
     },
     "execution_count": 3,
     "metadata": {},
     "output_type": "execute_result"
    }
   ],
   "source": [
    "shows[0].artist.name"
   ]
  },
  {
   "cell_type": "code",
   "execution_count": 4,
   "metadata": {},
   "outputs": [],
   "source": [
    "info = db.session.query(Show).filter(Show.artist_id == 6).all()"
   ]
  },
  {
   "cell_type": "code",
   "execution_count": 5,
   "metadata": {},
   "outputs": [
    {
     "data": {
      "text/plain": [
       "[<Show 2>, <Show 3>]"
      ]
     },
     "execution_count": 5,
     "metadata": {},
     "output_type": "execute_result"
    }
   ],
   "source": [
    "info"
   ]
  },
  {
   "cell_type": "code",
   "execution_count": 6,
   "metadata": {},
   "outputs": [],
   "source": [
    "import datetime"
   ]
  },
  {
   "cell_type": "code",
   "execution_count": 7,
   "metadata": {},
   "outputs": [],
   "source": [
    "time_now = datetime.datetime.now()"
   ]
  },
  {
   "cell_type": "code",
   "execution_count": 8,
   "metadata": {},
   "outputs": [],
   "source": [
    "show_time = info[1].show_time"
   ]
  },
  {
   "cell_type": "code",
   "execution_count": 9,
   "metadata": {},
   "outputs": [
    {
     "data": {
      "text/plain": [
       "False"
      ]
     },
     "execution_count": 9,
     "metadata": {},
     "output_type": "execute_result"
    }
   ],
   "source": [
    "show_time > time_now"
   ]
  },
  {
   "cell_type": "code",
   "execution_count": 10,
   "metadata": {},
   "outputs": [],
   "source": [
    "def artist_list_shows(artist_id):\n",
    "    upcoming_shows, past_shows = [], []\n",
    "    time_now = datetime.datetime.now()\n",
    "    artist_shows_all = db.session.query(Show).filter(Show.artist_id == artist_id).all()\n",
    "    for show in artist_shows_all:\n",
    "        venue = db.session.query(Venue).get(show.venue_id)\n",
    "        info_dict = {\n",
    "                \"venue_id\": venue.id,\n",
    "                \"venue_name\": venue.name,\n",
    "                \"venue_image_link\": venue.image_link,\n",
    "                \"start_time\": show.show_time\n",
    "            }\n",
    "        if show.show_time < time_now:\n",
    "            past_shows.append(info_dict)\n",
    "        else:\n",
    "            upcoming_shows.append(info_dict)\n",
    "    return past_shows, upcoming_shows"
   ]
  },
  {
   "cell_type": "code",
   "execution_count": 11,
   "metadata": {},
   "outputs": [],
   "source": [
    "past_shows, upcoming_shows = artist_list_shows(6)"
   ]
  },
  {
   "cell_type": "code",
   "execution_count": 12,
   "metadata": {},
   "outputs": [
    {
     "data": {
      "text/plain": [
       "[{'venue_id': 1,\n",
       "  'venue_name': 'Troubadour',\n",
       "  'venue_image_link': 'https://unsplash.com/photos/T-G9PVLOfOY',\n",
       "  'start_time': datetime.datetime(2020, 2, 25, 0, 22, 33)},\n",
       " {'venue_id': 1,\n",
       "  'venue_name': 'Troubadour',\n",
       "  'venue_image_link': 'https://unsplash.com/photos/T-G9PVLOfOY',\n",
       "  'start_time': datetime.datetime(2020, 2, 20, 0, 22, 33)}]"
      ]
     },
     "execution_count": 12,
     "metadata": {},
     "output_type": "execute_result"
    }
   ],
   "source": [
    "past_shows"
   ]
  },
  {
   "cell_type": "code",
   "execution_count": 13,
   "metadata": {},
   "outputs": [
    {
     "data": {
      "text/plain": [
       "[]"
      ]
     },
     "execution_count": 13,
     "metadata": {},
     "output_type": "execute_result"
    }
   ],
   "source": [
    "upcoming_shows"
   ]
  },
  {
   "cell_type": "code",
   "execution_count": 22,
   "metadata": {},
   "outputs": [
    {
     "data": {
      "text/plain": [
       "datetime.datetime(2020, 2, 20, 0, 22, 33)"
      ]
     },
     "execution_count": 22,
     "metadata": {},
     "output_type": "execute_result"
    }
   ],
   "source": [
    "show_time"
   ]
  },
  {
   "cell_type": "code",
   "execution_count": 23,
   "metadata": {},
   "outputs": [],
   "source": [
    "# extracting data from Venue"
   ]
  },
  {
   "cell_type": "code",
   "execution_count": 24,
   "metadata": {},
   "outputs": [],
   "source": [
    "venue = db.session.query(Venue).get(2)"
   ]
  },
  {
   "cell_type": "code",
   "execution_count": 26,
   "metadata": {},
   "outputs": [
    {
     "data": {
      "text/plain": [
       "'Blues,Classical,Funk'"
      ]
     },
     "execution_count": 26,
     "metadata": {},
     "output_type": "execute_result"
    }
   ],
   "source": [
    "venue.genres"
   ]
  },
  {
   "cell_type": "code",
   "execution_count": 27,
   "metadata": {},
   "outputs": [],
   "source": [
    "venue_data = {\n",
    "    'id': venue.id,\n",
    "    'name':venue.name,\n",
    "    'genres': venue.genres.split(','),\n",
    "    'address': venue.address,\n",
    "    'city': venue.city,\n",
    "    'state': venue.state,\n",
    "    'phone': venue.phone,\n",
    "    'website': venue.website_link,\n",
    "    'facebook_link': venue.facebook_link,\n",
    "    'seeking_talent': venue.seeking_talent,\n",
    "    'seeking_description': venue.seeking_description,\n",
    "    'image_link': venue.image_link,\n",
    "    'past_shows': [],\n",
    "    'upcoming_shows': [],\n",
    "    'past_show_count': 1,\n",
    "    'upcoming_show': 2\n",
    "}"
   ]
  },
  {
   "cell_type": "code",
   "execution_count": 28,
   "metadata": {},
   "outputs": [
    {
     "data": {
      "text/plain": [
       "{'id': 2,\n",
       " 'name': 'Hollywood Bowl',\n",
       " 'genres': ['Blues', 'Classical', 'Funk'],\n",
       " 'address': '151 S, Grand Avenue',\n",
       " 'city': 'Los Angeles',\n",
       " 'state': 'CA',\n",
       " 'phone': '123-232-2343',\n",
       " 'website': 'http://www.hollywoodbowl.com',\n",
       " 'facebook_link': 'http://facebook.com/hollywood_bowl',\n",
       " 'seeking_talent': True,\n",
       " 'seeking_description': 'Bring your group to us',\n",
       " 'image_link': 'https://ucarecdn.com/5f89a224-eaf9-4cf5-b83b-e306797d3857/-/crop/3018x1857/0,1009/-/resize/1300x800/',\n",
       " 'past_shows': [],\n",
       " 'upcoming_shows': [],\n",
       " 'past_show_count': 1,\n",
       " 'upcoming_show': 2}"
      ]
     },
     "execution_count": 28,
     "metadata": {},
     "output_type": "execute_result"
    }
   ],
   "source": [
    "venue_data"
   ]
  },
  {
   "cell_type": "code",
   "execution_count": 33,
   "metadata": {},
   "outputs": [],
   "source": [
    "def venue_list_shows(venue_id):\n",
    "    upcoming_shows, past_shows = [], []\n",
    "    time_now = datetime.datetime.now()\n",
    "    venue_show_all = db.session.query(Show).filter(Show.venue_id == venue_id).all()\n",
    "    for show in venue_show_all:\n",
    "        _data = {\n",
    "            'artist_id': show.artist_id,\n",
    "            'artist_name': show.artist.name,\n",
    "            'artist_image_link': show.artist.image_link,\n",
    "            'start_time': show.show_time.strftime('%Y-%m-%dT%H:%M:%S.000Z')\n",
    "        }\n",
    "        if show.show_time < time_now:\n",
    "            past_shows.append(_data)\n",
    "        else:\n",
    "            upcoming_shows.append(_data)\n",
    "    return past_shows, upcoming_shows"
   ]
  },
  {
   "cell_type": "code",
   "execution_count": 30,
   "metadata": {},
   "outputs": [],
   "source": [
    "p, u = venue_list_shows(1)"
   ]
  },
  {
   "cell_type": "code",
   "execution_count": 31,
   "metadata": {},
   "outputs": [
    {
     "data": {
      "text/plain": [
       "[{'artist_id': 4,\n",
       "  'artist_name': 'Metallica',\n",
       "  'artist_image_link': '',\n",
       "  'start_time': datetime.datetime(2020, 2, 23, 2, 5, 3)},\n",
       " {'artist_id': 6,\n",
       "  'artist_name': 'Rage Against The Machine',\n",
       "  'artist_image_link': 'https://images.unsplash.com/photo-1525561482-649989a8f7d9?ixlib=rb-1.2.1&auto=format&fit=crop&w=700&q=80',\n",
       "  'start_time': datetime.datetime(2020, 2, 25, 0, 22, 33)},\n",
       " {'artist_id': 6,\n",
       "  'artist_name': 'Rage Against The Machine',\n",
       "  'artist_image_link': 'https://images.unsplash.com/photo-1525561482-649989a8f7d9?ixlib=rb-1.2.1&auto=format&fit=crop&w=700&q=80',\n",
       "  'start_time': datetime.datetime(2020, 2, 20, 0, 22, 33)}]"
      ]
     },
     "execution_count": 31,
     "metadata": {},
     "output_type": "execute_result"
    }
   ],
   "source": [
    "p"
   ]
  },
  {
   "cell_type": "code",
   "execution_count": 32,
   "metadata": {},
   "outputs": [
    {
     "data": {
      "text/plain": [
       "[]"
      ]
     },
     "execution_count": 32,
     "metadata": {},
     "output_type": "execute_result"
    }
   ],
   "source": [
    "u"
   ]
  },
  {
   "cell_type": "code",
   "execution_count": null,
   "metadata": {},
   "outputs": [],
   "source": []
  }
 ],
 "metadata": {
  "kernelspec": {
   "display_name": "Python 3.7.6 64-bit ('fs': conda)",
   "language": "python",
   "name": "python37664bitfsconda4eb007f54ceb4d46914496b01643e57f"
  },
  "language_info": {
   "codemirror_mode": {
    "name": "ipython",
    "version": 3
   },
   "file_extension": ".py",
   "mimetype": "text/x-python",
   "name": "python",
   "nbconvert_exporter": "python",
   "pygments_lexer": "ipython3",
   "version": "3.7.6"
  }
 },
 "nbformat": 4,
 "nbformat_minor": 2
}
